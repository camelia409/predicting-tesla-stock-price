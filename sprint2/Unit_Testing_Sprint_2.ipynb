{
  "cells": [
    {
      "cell_type": "code",
      "execution_count": null,
      "metadata": {
        "id": "2CZff_AZmuyi"
      },
      "outputs": [],
      "source": []
    },
    {
      "cell_type": "code",
      "execution_count": null,
      "metadata": {
        "id": "BdRnqg7AbLVD"
      },
      "outputs": [],
      "source": [
        "import pandas as pd\n",
        "import numpy as np"
      ]
    },
    {
      "cell_type": "code",
      "execution_count": null,
      "metadata": {
        "colab": {
          "base_uri": "https://localhost:8080/"
        },
        "id": "pHWf8y63jo31",
        "outputId": "05f44013-b6cd-45dd-9e24-8261cf00a753"
      },
      "outputs": [
        {
          "output_type": "stream",
          "name": "stdout",
          "text": [
            "Dataset loaded successfully..!!\n"
          ]
        }
      ],
      "source": [
        "df=pd.read_csv('/content/tesla.csv')\n",
        "df\n",
        "print(\"Dataset loaded successfully..!!\")"
      ]
    },
    {
      "cell_type": "markdown",
      "metadata": {
        "id": "4pZay_Rodvnr"
      },
      "source": [
        "**Unit test - 01 (Target Variable Label encoding)**"
      ]
    },
    {
      "cell_type": "code",
      "execution_count": null,
      "metadata": {
        "colab": {
          "base_uri": "https://localhost:8080/",
          "height": 504
        },
        "id": "Ce8z5k5-cIOc",
        "outputId": "005ba2db-6c14-4127-c46c-524b5f51026a"
      },
      "outputs": [
        {
          "output_type": "stream",
          "name": "stderr",
          "text": [
            "<ipython-input-362-426e04a84e24>:3: FutureWarning: ChainedAssignmentError: behaviour will change in pandas 3.0!\n",
            "You are setting values through chained assignment. Currently this works in certain cases, but when using Copy-on-Write (which will become the default behaviour in pandas 3.0) this will never work to update the original DataFrame or Series, because the intermediate object on which we are setting values will behave as a copy.\n",
            "A typical example is when you are setting values in a column of a DataFrame, like:\n",
            "\n",
            "df[\"col\"][row_indexer] = value\n",
            "\n",
            "Use `df.loc[row_indexer, \"col\"] = values` instead, to perform the assignment in a single step and ensure this keeps updating the original `df`.\n",
            "\n",
            "See the caveats in the documentation: https://pandas.pydata.org/pandas-docs/stable/user_guide/indexing.html#returning-a-view-versus-a-copy\n",
            "\n",
            "  df['Trend'].iloc[0] = 'Neutral'\n",
            "<ipython-input-362-426e04a84e24>:3: SettingWithCopyWarning: \n",
            "A value is trying to be set on a copy of a slice from a DataFrame\n",
            "\n",
            "See the caveats in the documentation: https://pandas.pydata.org/pandas-docs/stable/user_guide/indexing.html#returning-a-view-versus-a-copy\n",
            "  df['Trend'].iloc[0] = 'Neutral'\n"
          ]
        },
        {
          "output_type": "execute_result",
          "data": {
            "text/plain": [
              "        Date       Open   High        Low      Close    Volume  Adj Close  \\\n",
              "0  6/29/2010  19.000000  25.00  17.540001  23.889999  18766300  23.889999   \n",
              "1  6/30/2010  25.790001  30.42  23.299999  23.830000  17187100  23.830000   \n",
              "2   7/1/2010  25.000000  25.92  20.270000  21.959999   8218800  21.959999   \n",
              "3   7/2/2010  23.000000  23.10  18.709999  19.200001   5139800  19.200001   \n",
              "4   7/6/2010  20.000000  20.00  15.830000  16.110001   6866900  16.110001   \n",
              "\n",
              "       Trend  Trend_Label  \n",
              "0    Neutral            0  \n",
              "1  Downtrend            0  \n",
              "2  Downtrend            0  \n",
              "3  Downtrend            0  \n",
              "4  Downtrend            0  "
            ],
            "text/html": [
              "\n",
              "  <div id=\"df-1b896724-015a-42cc-998d-2bba205680e5\" class=\"colab-df-container\">\n",
              "    <div>\n",
              "<style scoped>\n",
              "    .dataframe tbody tr th:only-of-type {\n",
              "        vertical-align: middle;\n",
              "    }\n",
              "\n",
              "    .dataframe tbody tr th {\n",
              "        vertical-align: top;\n",
              "    }\n",
              "\n",
              "    .dataframe thead th {\n",
              "        text-align: right;\n",
              "    }\n",
              "</style>\n",
              "<table border=\"1\" class=\"dataframe\">\n",
              "  <thead>\n",
              "    <tr style=\"text-align: right;\">\n",
              "      <th></th>\n",
              "      <th>Date</th>\n",
              "      <th>Open</th>\n",
              "      <th>High</th>\n",
              "      <th>Low</th>\n",
              "      <th>Close</th>\n",
              "      <th>Volume</th>\n",
              "      <th>Adj Close</th>\n",
              "      <th>Trend</th>\n",
              "      <th>Trend_Label</th>\n",
              "    </tr>\n",
              "  </thead>\n",
              "  <tbody>\n",
              "    <tr>\n",
              "      <th>0</th>\n",
              "      <td>6/29/2010</td>\n",
              "      <td>19.000000</td>\n",
              "      <td>25.00</td>\n",
              "      <td>17.540001</td>\n",
              "      <td>23.889999</td>\n",
              "      <td>18766300</td>\n",
              "      <td>23.889999</td>\n",
              "      <td>Neutral</td>\n",
              "      <td>0</td>\n",
              "    </tr>\n",
              "    <tr>\n",
              "      <th>1</th>\n",
              "      <td>6/30/2010</td>\n",
              "      <td>25.790001</td>\n",
              "      <td>30.42</td>\n",
              "      <td>23.299999</td>\n",
              "      <td>23.830000</td>\n",
              "      <td>17187100</td>\n",
              "      <td>23.830000</td>\n",
              "      <td>Downtrend</td>\n",
              "      <td>0</td>\n",
              "    </tr>\n",
              "    <tr>\n",
              "      <th>2</th>\n",
              "      <td>7/1/2010</td>\n",
              "      <td>25.000000</td>\n",
              "      <td>25.92</td>\n",
              "      <td>20.270000</td>\n",
              "      <td>21.959999</td>\n",
              "      <td>8218800</td>\n",
              "      <td>21.959999</td>\n",
              "      <td>Downtrend</td>\n",
              "      <td>0</td>\n",
              "    </tr>\n",
              "    <tr>\n",
              "      <th>3</th>\n",
              "      <td>7/2/2010</td>\n",
              "      <td>23.000000</td>\n",
              "      <td>23.10</td>\n",
              "      <td>18.709999</td>\n",
              "      <td>19.200001</td>\n",
              "      <td>5139800</td>\n",
              "      <td>19.200001</td>\n",
              "      <td>Downtrend</td>\n",
              "      <td>0</td>\n",
              "    </tr>\n",
              "    <tr>\n",
              "      <th>4</th>\n",
              "      <td>7/6/2010</td>\n",
              "      <td>20.000000</td>\n",
              "      <td>20.00</td>\n",
              "      <td>15.830000</td>\n",
              "      <td>16.110001</td>\n",
              "      <td>6866900</td>\n",
              "      <td>16.110001</td>\n",
              "      <td>Downtrend</td>\n",
              "      <td>0</td>\n",
              "    </tr>\n",
              "  </tbody>\n",
              "</table>\n",
              "</div>\n",
              "    <div class=\"colab-df-buttons\">\n",
              "\n",
              "  <div class=\"colab-df-container\">\n",
              "    <button class=\"colab-df-convert\" onclick=\"convertToInteractive('df-1b896724-015a-42cc-998d-2bba205680e5')\"\n",
              "            title=\"Convert this dataframe to an interactive table.\"\n",
              "            style=\"display:none;\">\n",
              "\n",
              "  <svg xmlns=\"http://www.w3.org/2000/svg\" height=\"24px\" viewBox=\"0 -960 960 960\">\n",
              "    <path d=\"M120-120v-720h720v720H120Zm60-500h600v-160H180v160Zm220 220h160v-160H400v160Zm0 220h160v-160H400v160ZM180-400h160v-160H180v160Zm440 0h160v-160H620v160ZM180-180h160v-160H180v160Zm440 0h160v-160H620v160Z\"/>\n",
              "  </svg>\n",
              "    </button>\n",
              "\n",
              "  <style>\n",
              "    .colab-df-container {\n",
              "      display:flex;\n",
              "      gap: 12px;\n",
              "    }\n",
              "\n",
              "    .colab-df-convert {\n",
              "      background-color: #E8F0FE;\n",
              "      border: none;\n",
              "      border-radius: 50%;\n",
              "      cursor: pointer;\n",
              "      display: none;\n",
              "      fill: #1967D2;\n",
              "      height: 32px;\n",
              "      padding: 0 0 0 0;\n",
              "      width: 32px;\n",
              "    }\n",
              "\n",
              "    .colab-df-convert:hover {\n",
              "      background-color: #E2EBFA;\n",
              "      box-shadow: 0px 1px 2px rgba(60, 64, 67, 0.3), 0px 1px 3px 1px rgba(60, 64, 67, 0.15);\n",
              "      fill: #174EA6;\n",
              "    }\n",
              "\n",
              "    .colab-df-buttons div {\n",
              "      margin-bottom: 4px;\n",
              "    }\n",
              "\n",
              "    [theme=dark] .colab-df-convert {\n",
              "      background-color: #3B4455;\n",
              "      fill: #D2E3FC;\n",
              "    }\n",
              "\n",
              "    [theme=dark] .colab-df-convert:hover {\n",
              "      background-color: #434B5C;\n",
              "      box-shadow: 0px 1px 3px 1px rgba(0, 0, 0, 0.15);\n",
              "      filter: drop-shadow(0px 1px 2px rgba(0, 0, 0, 0.3));\n",
              "      fill: #FFFFFF;\n",
              "    }\n",
              "  </style>\n",
              "\n",
              "    <script>\n",
              "      const buttonEl =\n",
              "        document.querySelector('#df-1b896724-015a-42cc-998d-2bba205680e5 button.colab-df-convert');\n",
              "      buttonEl.style.display =\n",
              "        google.colab.kernel.accessAllowed ? 'block' : 'none';\n",
              "\n",
              "      async function convertToInteractive(key) {\n",
              "        const element = document.querySelector('#df-1b896724-015a-42cc-998d-2bba205680e5');\n",
              "        const dataTable =\n",
              "          await google.colab.kernel.invokeFunction('convertToInteractive',\n",
              "                                                    [key], {});\n",
              "        if (!dataTable) return;\n",
              "\n",
              "        const docLinkHtml = 'Like what you see? Visit the ' +\n",
              "          '<a target=\"_blank\" href=https://colab.research.google.com/notebooks/data_table.ipynb>data table notebook</a>'\n",
              "          + ' to learn more about interactive tables.';\n",
              "        element.innerHTML = '';\n",
              "        dataTable['output_type'] = 'display_data';\n",
              "        await google.colab.output.renderOutput(dataTable, element);\n",
              "        const docLink = document.createElement('div');\n",
              "        docLink.innerHTML = docLinkHtml;\n",
              "        element.appendChild(docLink);\n",
              "      }\n",
              "    </script>\n",
              "  </div>\n",
              "\n",
              "\n",
              "<div id=\"df-9be817df-b087-4040-b1af-1bc95620e88e\">\n",
              "  <button class=\"colab-df-quickchart\" onclick=\"quickchart('df-9be817df-b087-4040-b1af-1bc95620e88e')\"\n",
              "            title=\"Suggest charts\"\n",
              "            style=\"display:none;\">\n",
              "\n",
              "<svg xmlns=\"http://www.w3.org/2000/svg\" height=\"24px\"viewBox=\"0 0 24 24\"\n",
              "     width=\"24px\">\n",
              "    <g>\n",
              "        <path d=\"M19 3H5c-1.1 0-2 .9-2 2v14c0 1.1.9 2 2 2h14c1.1 0 2-.9 2-2V5c0-1.1-.9-2-2-2zM9 17H7v-7h2v7zm4 0h-2V7h2v10zm4 0h-2v-4h2v4z\"/>\n",
              "    </g>\n",
              "</svg>\n",
              "  </button>\n",
              "\n",
              "<style>\n",
              "  .colab-df-quickchart {\n",
              "      --bg-color: #E8F0FE;\n",
              "      --fill-color: #1967D2;\n",
              "      --hover-bg-color: #E2EBFA;\n",
              "      --hover-fill-color: #174EA6;\n",
              "      --disabled-fill-color: #AAA;\n",
              "      --disabled-bg-color: #DDD;\n",
              "  }\n",
              "\n",
              "  [theme=dark] .colab-df-quickchart {\n",
              "      --bg-color: #3B4455;\n",
              "      --fill-color: #D2E3FC;\n",
              "      --hover-bg-color: #434B5C;\n",
              "      --hover-fill-color: #FFFFFF;\n",
              "      --disabled-bg-color: #3B4455;\n",
              "      --disabled-fill-color: #666;\n",
              "  }\n",
              "\n",
              "  .colab-df-quickchart {\n",
              "    background-color: var(--bg-color);\n",
              "    border: none;\n",
              "    border-radius: 50%;\n",
              "    cursor: pointer;\n",
              "    display: none;\n",
              "    fill: var(--fill-color);\n",
              "    height: 32px;\n",
              "    padding: 0;\n",
              "    width: 32px;\n",
              "  }\n",
              "\n",
              "  .colab-df-quickchart:hover {\n",
              "    background-color: var(--hover-bg-color);\n",
              "    box-shadow: 0 1px 2px rgba(60, 64, 67, 0.3), 0 1px 3px 1px rgba(60, 64, 67, 0.15);\n",
              "    fill: var(--button-hover-fill-color);\n",
              "  }\n",
              "\n",
              "  .colab-df-quickchart-complete:disabled,\n",
              "  .colab-df-quickchart-complete:disabled:hover {\n",
              "    background-color: var(--disabled-bg-color);\n",
              "    fill: var(--disabled-fill-color);\n",
              "    box-shadow: none;\n",
              "  }\n",
              "\n",
              "  .colab-df-spinner {\n",
              "    border: 2px solid var(--fill-color);\n",
              "    border-color: transparent;\n",
              "    border-bottom-color: var(--fill-color);\n",
              "    animation:\n",
              "      spin 1s steps(1) infinite;\n",
              "  }\n",
              "\n",
              "  @keyframes spin {\n",
              "    0% {\n",
              "      border-color: transparent;\n",
              "      border-bottom-color: var(--fill-color);\n",
              "      border-left-color: var(--fill-color);\n",
              "    }\n",
              "    20% {\n",
              "      border-color: transparent;\n",
              "      border-left-color: var(--fill-color);\n",
              "      border-top-color: var(--fill-color);\n",
              "    }\n",
              "    30% {\n",
              "      border-color: transparent;\n",
              "      border-left-color: var(--fill-color);\n",
              "      border-top-color: var(--fill-color);\n",
              "      border-right-color: var(--fill-color);\n",
              "    }\n",
              "    40% {\n",
              "      border-color: transparent;\n",
              "      border-right-color: var(--fill-color);\n",
              "      border-top-color: var(--fill-color);\n",
              "    }\n",
              "    60% {\n",
              "      border-color: transparent;\n",
              "      border-right-color: var(--fill-color);\n",
              "    }\n",
              "    80% {\n",
              "      border-color: transparent;\n",
              "      border-right-color: var(--fill-color);\n",
              "      border-bottom-color: var(--fill-color);\n",
              "    }\n",
              "    90% {\n",
              "      border-color: transparent;\n",
              "      border-bottom-color: var(--fill-color);\n",
              "    }\n",
              "  }\n",
              "</style>\n",
              "\n",
              "  <script>\n",
              "    async function quickchart(key) {\n",
              "      const quickchartButtonEl =\n",
              "        document.querySelector('#' + key + ' button');\n",
              "      quickchartButtonEl.disabled = true;  // To prevent multiple clicks.\n",
              "      quickchartButtonEl.classList.add('colab-df-spinner');\n",
              "      try {\n",
              "        const charts = await google.colab.kernel.invokeFunction(\n",
              "            'suggestCharts', [key], {});\n",
              "      } catch (error) {\n",
              "        console.error('Error during call to suggestCharts:', error);\n",
              "      }\n",
              "      quickchartButtonEl.classList.remove('colab-df-spinner');\n",
              "      quickchartButtonEl.classList.add('colab-df-quickchart-complete');\n",
              "    }\n",
              "    (() => {\n",
              "      let quickchartButtonEl =\n",
              "        document.querySelector('#df-9be817df-b087-4040-b1af-1bc95620e88e button');\n",
              "      quickchartButtonEl.style.display =\n",
              "        google.colab.kernel.accessAllowed ? 'block' : 'none';\n",
              "    })();\n",
              "  </script>\n",
              "</div>\n",
              "\n",
              "    </div>\n",
              "  </div>\n"
            ],
            "application/vnd.google.colaboratory.intrinsic+json": {
              "type": "dataframe",
              "variable_name": "df",
              "summary": "{\n  \"name\": \"df\",\n  \"rows\": 1692,\n  \"fields\": [\n    {\n      \"column\": \"Date\",\n      \"properties\": {\n        \"dtype\": \"object\",\n        \"num_unique_values\": 1692,\n        \"samples\": [\n          \"6/4/2014\",\n          \"12/28/2016\",\n          \"4/30/2015\"\n        ],\n        \"semantic_type\": \"\",\n        \"description\": \"\"\n      }\n    },\n    {\n      \"column\": \"Open\",\n      \"properties\": {\n        \"dtype\": \"number\",\n        \"std\": 94.30992332283297,\n        \"min\": 16.139999,\n        \"max\": 287.670013,\n        \"num_unique_values\": 1464,\n        \"samples\": [\n          234.979996,\n          27.58,\n          27.860001\n        ],\n        \"semantic_type\": \"\",\n        \"description\": \"\"\n      }\n    },\n    {\n      \"column\": \"High\",\n      \"properties\": {\n        \"dtype\": \"number\",\n        \"std\": 95.69491432029604,\n        \"min\": 16.629999,\n        \"max\": 291.420013,\n        \"num_unique_values\": 1470,\n        \"samples\": [\n          210.369995,\n          28.950001,\n          205.070007\n        ],\n        \"semantic_type\": \"\",\n        \"description\": \"\"\n      }\n    },\n    {\n      \"column\": \"Low\",\n      \"properties\": {\n        \"dtype\": \"number\",\n        \"std\": 92.85522729476068,\n        \"min\": 14.98,\n        \"max\": 280.399994,\n        \"num_unique_values\": 1468,\n        \"samples\": [\n          223.639999,\n          25.299999,\n          188.880005\n        ],\n        \"semantic_type\": \"\",\n        \"description\": \"\"\n      }\n    },\n    {\n      \"column\": \"Close\",\n      \"properties\": {\n        \"dtype\": \"number\",\n        \"std\": 94.31318671731363,\n        \"min\": 15.8,\n        \"max\": 286.040009,\n        \"num_unique_values\": 1528,\n        \"samples\": [\n          32.150002,\n          24.440001,\n          266.790009\n        ],\n        \"semantic_type\": \"\",\n        \"description\": \"\"\n      }\n    },\n    {\n      \"column\": \"Volume\",\n      \"properties\": {\n        \"dtype\": \"number\",\n        \"std\": 4295971,\n        \"min\": 118500,\n        \"max\": 37163900,\n        \"num_unique_values\": 1676,\n        \"samples\": [\n          12740000,\n          2553500,\n          535700\n        ],\n        \"semantic_type\": \"\",\n        \"description\": \"\"\n      }\n    },\n    {\n      \"column\": \"Adj Close\",\n      \"properties\": {\n        \"dtype\": \"number\",\n        \"std\": 94.31318671731363,\n        \"min\": 15.8,\n        \"max\": 286.040009,\n        \"num_unique_values\": 1528,\n        \"samples\": [\n          32.150002,\n          24.440001,\n          266.790009\n        ],\n        \"semantic_type\": \"\",\n        \"description\": \"\"\n      }\n    },\n    {\n      \"column\": \"Trend\",\n      \"properties\": {\n        \"dtype\": \"category\",\n        \"num_unique_values\": 3,\n        \"samples\": [\n          \"Neutral\",\n          \"Downtrend\",\n          \"Uptrend\"\n        ],\n        \"semantic_type\": \"\",\n        \"description\": \"\"\n      }\n    },\n    {\n      \"column\": \"Trend_Label\",\n      \"properties\": {\n        \"dtype\": \"number\",\n        \"std\": 0,\n        \"min\": 0,\n        \"max\": 1,\n        \"num_unique_values\": 2,\n        \"samples\": [\n          1,\n          0\n        ],\n        \"semantic_type\": \"\",\n        \"description\": \"\"\n      }\n    }\n  ]\n}"
            }
          },
          "metadata": {},
          "execution_count": 362
        }
      ],
      "source": [
        "df['Trend'] = ['Uptrend' if df['Close'].iloc[i] > df['Close'].iloc[i - 1] else 'Downtrend'\n",
        "               for i in range(len(df))]\n",
        "df['Trend'].iloc[0] = 'Neutral'\n",
        "df['Trend_Label'] = df['Trend'].map({'Uptrend': 1, 'Downtrend': 0, 'Neutral': 0})\n",
        "df.head()"
      ]
    },
    {
      "cell_type": "code",
      "execution_count": null,
      "metadata": {
        "id": "2ck8kGTdclbW"
      },
      "outputs": [],
      "source": [
        "from sklearn.preprocessing import LabelEncoder\n",
        "label_encoder = LabelEncoder()\n",
        "df['Trend_Label'] = label_encoder.fit_transform(df['Trend_Label'])\n"
      ]
    },
    {
      "cell_type": "code",
      "execution_count": null,
      "metadata": {
        "colab": {
          "base_uri": "https://localhost:8080/",
          "height": 206
        },
        "id": "isTVK42CcuOw",
        "outputId": "31b871bf-d863-4085-83d2-6768265a3eff"
      },
      "outputs": [
        {
          "output_type": "execute_result",
          "data": {
            "text/plain": [
              "        Date       Open   High        Low      Close    Volume  Adj Close  \\\n",
              "0  6/29/2010  19.000000  25.00  17.540001  23.889999  18766300  23.889999   \n",
              "1  6/30/2010  25.790001  30.42  23.299999  23.830000  17187100  23.830000   \n",
              "2   7/1/2010  25.000000  25.92  20.270000  21.959999   8218800  21.959999   \n",
              "3   7/2/2010  23.000000  23.10  18.709999  19.200001   5139800  19.200001   \n",
              "4   7/6/2010  20.000000  20.00  15.830000  16.110001   6866900  16.110001   \n",
              "\n",
              "   Trend_Label  \n",
              "0            0  \n",
              "1            0  \n",
              "2            0  \n",
              "3            0  \n",
              "4            0  "
            ],
            "text/html": [
              "\n",
              "  <div id=\"df-f40df948-f27e-48a7-b885-3e5861976234\" class=\"colab-df-container\">\n",
              "    <div>\n",
              "<style scoped>\n",
              "    .dataframe tbody tr th:only-of-type {\n",
              "        vertical-align: middle;\n",
              "    }\n",
              "\n",
              "    .dataframe tbody tr th {\n",
              "        vertical-align: top;\n",
              "    }\n",
              "\n",
              "    .dataframe thead th {\n",
              "        text-align: right;\n",
              "    }\n",
              "</style>\n",
              "<table border=\"1\" class=\"dataframe\">\n",
              "  <thead>\n",
              "    <tr style=\"text-align: right;\">\n",
              "      <th></th>\n",
              "      <th>Date</th>\n",
              "      <th>Open</th>\n",
              "      <th>High</th>\n",
              "      <th>Low</th>\n",
              "      <th>Close</th>\n",
              "      <th>Volume</th>\n",
              "      <th>Adj Close</th>\n",
              "      <th>Trend_Label</th>\n",
              "    </tr>\n",
              "  </thead>\n",
              "  <tbody>\n",
              "    <tr>\n",
              "      <th>0</th>\n",
              "      <td>6/29/2010</td>\n",
              "      <td>19.000000</td>\n",
              "      <td>25.00</td>\n",
              "      <td>17.540001</td>\n",
              "      <td>23.889999</td>\n",
              "      <td>18766300</td>\n",
              "      <td>23.889999</td>\n",
              "      <td>0</td>\n",
              "    </tr>\n",
              "    <tr>\n",
              "      <th>1</th>\n",
              "      <td>6/30/2010</td>\n",
              "      <td>25.790001</td>\n",
              "      <td>30.42</td>\n",
              "      <td>23.299999</td>\n",
              "      <td>23.830000</td>\n",
              "      <td>17187100</td>\n",
              "      <td>23.830000</td>\n",
              "      <td>0</td>\n",
              "    </tr>\n",
              "    <tr>\n",
              "      <th>2</th>\n",
              "      <td>7/1/2010</td>\n",
              "      <td>25.000000</td>\n",
              "      <td>25.92</td>\n",
              "      <td>20.270000</td>\n",
              "      <td>21.959999</td>\n",
              "      <td>8218800</td>\n",
              "      <td>21.959999</td>\n",
              "      <td>0</td>\n",
              "    </tr>\n",
              "    <tr>\n",
              "      <th>3</th>\n",
              "      <td>7/2/2010</td>\n",
              "      <td>23.000000</td>\n",
              "      <td>23.10</td>\n",
              "      <td>18.709999</td>\n",
              "      <td>19.200001</td>\n",
              "      <td>5139800</td>\n",
              "      <td>19.200001</td>\n",
              "      <td>0</td>\n",
              "    </tr>\n",
              "    <tr>\n",
              "      <th>4</th>\n",
              "      <td>7/6/2010</td>\n",
              "      <td>20.000000</td>\n",
              "      <td>20.00</td>\n",
              "      <td>15.830000</td>\n",
              "      <td>16.110001</td>\n",
              "      <td>6866900</td>\n",
              "      <td>16.110001</td>\n",
              "      <td>0</td>\n",
              "    </tr>\n",
              "  </tbody>\n",
              "</table>\n",
              "</div>\n",
              "    <div class=\"colab-df-buttons\">\n",
              "\n",
              "  <div class=\"colab-df-container\">\n",
              "    <button class=\"colab-df-convert\" onclick=\"convertToInteractive('df-f40df948-f27e-48a7-b885-3e5861976234')\"\n",
              "            title=\"Convert this dataframe to an interactive table.\"\n",
              "            style=\"display:none;\">\n",
              "\n",
              "  <svg xmlns=\"http://www.w3.org/2000/svg\" height=\"24px\" viewBox=\"0 -960 960 960\">\n",
              "    <path d=\"M120-120v-720h720v720H120Zm60-500h600v-160H180v160Zm220 220h160v-160H400v160Zm0 220h160v-160H400v160ZM180-400h160v-160H180v160Zm440 0h160v-160H620v160ZM180-180h160v-160H180v160Zm440 0h160v-160H620v160Z\"/>\n",
              "  </svg>\n",
              "    </button>\n",
              "\n",
              "  <style>\n",
              "    .colab-df-container {\n",
              "      display:flex;\n",
              "      gap: 12px;\n",
              "    }\n",
              "\n",
              "    .colab-df-convert {\n",
              "      background-color: #E8F0FE;\n",
              "      border: none;\n",
              "      border-radius: 50%;\n",
              "      cursor: pointer;\n",
              "      display: none;\n",
              "      fill: #1967D2;\n",
              "      height: 32px;\n",
              "      padding: 0 0 0 0;\n",
              "      width: 32px;\n",
              "    }\n",
              "\n",
              "    .colab-df-convert:hover {\n",
              "      background-color: #E2EBFA;\n",
              "      box-shadow: 0px 1px 2px rgba(60, 64, 67, 0.3), 0px 1px 3px 1px rgba(60, 64, 67, 0.15);\n",
              "      fill: #174EA6;\n",
              "    }\n",
              "\n",
              "    .colab-df-buttons div {\n",
              "      margin-bottom: 4px;\n",
              "    }\n",
              "\n",
              "    [theme=dark] .colab-df-convert {\n",
              "      background-color: #3B4455;\n",
              "      fill: #D2E3FC;\n",
              "    }\n",
              "\n",
              "    [theme=dark] .colab-df-convert:hover {\n",
              "      background-color: #434B5C;\n",
              "      box-shadow: 0px 1px 3px 1px rgba(0, 0, 0, 0.15);\n",
              "      filter: drop-shadow(0px 1px 2px rgba(0, 0, 0, 0.3));\n",
              "      fill: #FFFFFF;\n",
              "    }\n",
              "  </style>\n",
              "\n",
              "    <script>\n",
              "      const buttonEl =\n",
              "        document.querySelector('#df-f40df948-f27e-48a7-b885-3e5861976234 button.colab-df-convert');\n",
              "      buttonEl.style.display =\n",
              "        google.colab.kernel.accessAllowed ? 'block' : 'none';\n",
              "\n",
              "      async function convertToInteractive(key) {\n",
              "        const element = document.querySelector('#df-f40df948-f27e-48a7-b885-3e5861976234');\n",
              "        const dataTable =\n",
              "          await google.colab.kernel.invokeFunction('convertToInteractive',\n",
              "                                                    [key], {});\n",
              "        if (!dataTable) return;\n",
              "\n",
              "        const docLinkHtml = 'Like what you see? Visit the ' +\n",
              "          '<a target=\"_blank\" href=https://colab.research.google.com/notebooks/data_table.ipynb>data table notebook</a>'\n",
              "          + ' to learn more about interactive tables.';\n",
              "        element.innerHTML = '';\n",
              "        dataTable['output_type'] = 'display_data';\n",
              "        await google.colab.output.renderOutput(dataTable, element);\n",
              "        const docLink = document.createElement('div');\n",
              "        docLink.innerHTML = docLinkHtml;\n",
              "        element.appendChild(docLink);\n",
              "      }\n",
              "    </script>\n",
              "  </div>\n",
              "\n",
              "\n",
              "<div id=\"df-98be9ccc-e4d3-472a-a13b-fe315e8b957c\">\n",
              "  <button class=\"colab-df-quickchart\" onclick=\"quickchart('df-98be9ccc-e4d3-472a-a13b-fe315e8b957c')\"\n",
              "            title=\"Suggest charts\"\n",
              "            style=\"display:none;\">\n",
              "\n",
              "<svg xmlns=\"http://www.w3.org/2000/svg\" height=\"24px\"viewBox=\"0 0 24 24\"\n",
              "     width=\"24px\">\n",
              "    <g>\n",
              "        <path d=\"M19 3H5c-1.1 0-2 .9-2 2v14c0 1.1.9 2 2 2h14c1.1 0 2-.9 2-2V5c0-1.1-.9-2-2-2zM9 17H7v-7h2v7zm4 0h-2V7h2v10zm4 0h-2v-4h2v4z\"/>\n",
              "    </g>\n",
              "</svg>\n",
              "  </button>\n",
              "\n",
              "<style>\n",
              "  .colab-df-quickchart {\n",
              "      --bg-color: #E8F0FE;\n",
              "      --fill-color: #1967D2;\n",
              "      --hover-bg-color: #E2EBFA;\n",
              "      --hover-fill-color: #174EA6;\n",
              "      --disabled-fill-color: #AAA;\n",
              "      --disabled-bg-color: #DDD;\n",
              "  }\n",
              "\n",
              "  [theme=dark] .colab-df-quickchart {\n",
              "      --bg-color: #3B4455;\n",
              "      --fill-color: #D2E3FC;\n",
              "      --hover-bg-color: #434B5C;\n",
              "      --hover-fill-color: #FFFFFF;\n",
              "      --disabled-bg-color: #3B4455;\n",
              "      --disabled-fill-color: #666;\n",
              "  }\n",
              "\n",
              "  .colab-df-quickchart {\n",
              "    background-color: var(--bg-color);\n",
              "    border: none;\n",
              "    border-radius: 50%;\n",
              "    cursor: pointer;\n",
              "    display: none;\n",
              "    fill: var(--fill-color);\n",
              "    height: 32px;\n",
              "    padding: 0;\n",
              "    width: 32px;\n",
              "  }\n",
              "\n",
              "  .colab-df-quickchart:hover {\n",
              "    background-color: var(--hover-bg-color);\n",
              "    box-shadow: 0 1px 2px rgba(60, 64, 67, 0.3), 0 1px 3px 1px rgba(60, 64, 67, 0.15);\n",
              "    fill: var(--button-hover-fill-color);\n",
              "  }\n",
              "\n",
              "  .colab-df-quickchart-complete:disabled,\n",
              "  .colab-df-quickchart-complete:disabled:hover {\n",
              "    background-color: var(--disabled-bg-color);\n",
              "    fill: var(--disabled-fill-color);\n",
              "    box-shadow: none;\n",
              "  }\n",
              "\n",
              "  .colab-df-spinner {\n",
              "    border: 2px solid var(--fill-color);\n",
              "    border-color: transparent;\n",
              "    border-bottom-color: var(--fill-color);\n",
              "    animation:\n",
              "      spin 1s steps(1) infinite;\n",
              "  }\n",
              "\n",
              "  @keyframes spin {\n",
              "    0% {\n",
              "      border-color: transparent;\n",
              "      border-bottom-color: var(--fill-color);\n",
              "      border-left-color: var(--fill-color);\n",
              "    }\n",
              "    20% {\n",
              "      border-color: transparent;\n",
              "      border-left-color: var(--fill-color);\n",
              "      border-top-color: var(--fill-color);\n",
              "    }\n",
              "    30% {\n",
              "      border-color: transparent;\n",
              "      border-left-color: var(--fill-color);\n",
              "      border-top-color: var(--fill-color);\n",
              "      border-right-color: var(--fill-color);\n",
              "    }\n",
              "    40% {\n",
              "      border-color: transparent;\n",
              "      border-right-color: var(--fill-color);\n",
              "      border-top-color: var(--fill-color);\n",
              "    }\n",
              "    60% {\n",
              "      border-color: transparent;\n",
              "      border-right-color: var(--fill-color);\n",
              "    }\n",
              "    80% {\n",
              "      border-color: transparent;\n",
              "      border-right-color: var(--fill-color);\n",
              "      border-bottom-color: var(--fill-color);\n",
              "    }\n",
              "    90% {\n",
              "      border-color: transparent;\n",
              "      border-bottom-color: var(--fill-color);\n",
              "    }\n",
              "  }\n",
              "</style>\n",
              "\n",
              "  <script>\n",
              "    async function quickchart(key) {\n",
              "      const quickchartButtonEl =\n",
              "        document.querySelector('#' + key + ' button');\n",
              "      quickchartButtonEl.disabled = true;  // To prevent multiple clicks.\n",
              "      quickchartButtonEl.classList.add('colab-df-spinner');\n",
              "      try {\n",
              "        const charts = await google.colab.kernel.invokeFunction(\n",
              "            'suggestCharts', [key], {});\n",
              "      } catch (error) {\n",
              "        console.error('Error during call to suggestCharts:', error);\n",
              "      }\n",
              "      quickchartButtonEl.classList.remove('colab-df-spinner');\n",
              "      quickchartButtonEl.classList.add('colab-df-quickchart-complete');\n",
              "    }\n",
              "    (() => {\n",
              "      let quickchartButtonEl =\n",
              "        document.querySelector('#df-98be9ccc-e4d3-472a-a13b-fe315e8b957c button');\n",
              "      quickchartButtonEl.style.display =\n",
              "        google.colab.kernel.accessAllowed ? 'block' : 'none';\n",
              "    })();\n",
              "  </script>\n",
              "</div>\n",
              "\n",
              "    </div>\n",
              "  </div>\n"
            ],
            "application/vnd.google.colaboratory.intrinsic+json": {
              "type": "dataframe",
              "variable_name": "df",
              "summary": "{\n  \"name\": \"df\",\n  \"rows\": 1692,\n  \"fields\": [\n    {\n      \"column\": \"Date\",\n      \"properties\": {\n        \"dtype\": \"object\",\n        \"num_unique_values\": 1692,\n        \"samples\": [\n          \"6/4/2014\",\n          \"12/28/2016\",\n          \"4/30/2015\"\n        ],\n        \"semantic_type\": \"\",\n        \"description\": \"\"\n      }\n    },\n    {\n      \"column\": \"Open\",\n      \"properties\": {\n        \"dtype\": \"number\",\n        \"std\": 94.30992332283297,\n        \"min\": 16.139999,\n        \"max\": 287.670013,\n        \"num_unique_values\": 1464,\n        \"samples\": [\n          234.979996,\n          27.58,\n          27.860001\n        ],\n        \"semantic_type\": \"\",\n        \"description\": \"\"\n      }\n    },\n    {\n      \"column\": \"High\",\n      \"properties\": {\n        \"dtype\": \"number\",\n        \"std\": 95.69491432029604,\n        \"min\": 16.629999,\n        \"max\": 291.420013,\n        \"num_unique_values\": 1470,\n        \"samples\": [\n          210.369995,\n          28.950001,\n          205.070007\n        ],\n        \"semantic_type\": \"\",\n        \"description\": \"\"\n      }\n    },\n    {\n      \"column\": \"Low\",\n      \"properties\": {\n        \"dtype\": \"number\",\n        \"std\": 92.85522729476068,\n        \"min\": 14.98,\n        \"max\": 280.399994,\n        \"num_unique_values\": 1468,\n        \"samples\": [\n          223.639999,\n          25.299999,\n          188.880005\n        ],\n        \"semantic_type\": \"\",\n        \"description\": \"\"\n      }\n    },\n    {\n      \"column\": \"Close\",\n      \"properties\": {\n        \"dtype\": \"number\",\n        \"std\": 94.31318671731363,\n        \"min\": 15.8,\n        \"max\": 286.040009,\n        \"num_unique_values\": 1528,\n        \"samples\": [\n          32.150002,\n          24.440001,\n          266.790009\n        ],\n        \"semantic_type\": \"\",\n        \"description\": \"\"\n      }\n    },\n    {\n      \"column\": \"Volume\",\n      \"properties\": {\n        \"dtype\": \"number\",\n        \"std\": 4295971,\n        \"min\": 118500,\n        \"max\": 37163900,\n        \"num_unique_values\": 1676,\n        \"samples\": [\n          12740000,\n          2553500,\n          535700\n        ],\n        \"semantic_type\": \"\",\n        \"description\": \"\"\n      }\n    },\n    {\n      \"column\": \"Adj Close\",\n      \"properties\": {\n        \"dtype\": \"number\",\n        \"std\": 94.31318671731363,\n        \"min\": 15.8,\n        \"max\": 286.040009,\n        \"num_unique_values\": 1528,\n        \"samples\": [\n          32.150002,\n          24.440001,\n          266.790009\n        ],\n        \"semantic_type\": \"\",\n        \"description\": \"\"\n      }\n    },\n    {\n      \"column\": \"Trend_Label\",\n      \"properties\": {\n        \"dtype\": \"number\",\n        \"std\": 0,\n        \"min\": 0,\n        \"max\": 1,\n        \"num_unique_values\": 2,\n        \"samples\": [\n          1,\n          0\n        ],\n        \"semantic_type\": \"\",\n        \"description\": \"\"\n      }\n    }\n  ]\n}"
            }
          },
          "metadata": {},
          "execution_count": 364
        }
      ],
      "source": [
        "df=df.drop(columns='Trend')\n",
        "df.head()"
      ]
    },
    {
      "cell_type": "markdown",
      "metadata": {
        "id": "WA8H4WmdgyQ9"
      },
      "source": [
        "**Unit Test - 02 (Removing Unncessary Features from the Dataset)**"
      ]
    },
    {
      "cell_type": "code",
      "execution_count": null,
      "metadata": {
        "id": "Qr3ePHpDr-uR"
      },
      "outputs": [],
      "source": [
        "df['Close-Open'] = df['Close'] - df['Open']\n",
        "df['High-Low'] = df['High'] - df['Low']"
      ]
    },
    {
      "cell_type": "code",
      "execution_count": null,
      "metadata": {
        "id": "2g1ahfuQc7_K"
      },
      "outputs": [],
      "source": [
        "features=['Open','Close','Volume','High','Low','Close-Open','High-Low']"
      ]
    },
    {
      "cell_type": "code",
      "execution_count": null,
      "metadata": {
        "id": "0AboJoz4ebAo"
      },
      "outputs": [],
      "source": [
        "train_size = int(0.8 * len(df))  #Splitting\n",
        "train_data = df[:train_size]\n",
        "test_data = df[train_size:]"
      ]
    },
    {
      "cell_type": "code",
      "execution_count": null,
      "metadata": {
        "id": "SQESJxTGerA9"
      },
      "outputs": [],
      "source": [
        "X=train_data[features]\n",
        "y=train_data['Trend_Label']"
      ]
    },
    {
      "cell_type": "code",
      "execution_count": null,
      "metadata": {
        "id": "0gtsBgssewKp"
      },
      "outputs": [],
      "source": [
        "x_test=test_data[features]\n",
        "y_test=test_data['Trend_Label']"
      ]
    },
    {
      "cell_type": "code",
      "execution_count": null,
      "metadata": {
        "id": "ner7q-cEe3Tu"
      },
      "outputs": [],
      "source": [
        "from sklearn.model_selection import train_test_split\n",
        "\n",
        "X_train, X_valid, y_train, y_valid = train_test_split(X, y, test_size=0.3, random_state=2022)\n"
      ]
    },
    {
      "cell_type": "code",
      "execution_count": null,
      "metadata": {
        "colab": {
          "base_uri": "https://localhost:8080/",
          "height": 848
        },
        "id": "OCGEmXWMe_LF",
        "outputId": "e396befd-0364-41c1-c269-ab5b2b5f0001"
      },
      "outputs": [
        {
          "output_type": "stream",
          "name": "stderr",
          "text": [
            "/usr/local/lib/python3.10/dist-packages/sklearn/linear_model/_logistic.py:465: ConvergenceWarning: lbfgs failed to converge (status=1):\n",
            "STOP: TOTAL NO. of ITERATIONS REACHED LIMIT.\n",
            "\n",
            "Increase the number of iterations (max_iter) or scale the data as shown in:\n",
            "    https://scikit-learn.org/stable/modules/preprocessing.html\n",
            "Please also refer to the documentation for alternative solver options:\n",
            "    https://scikit-learn.org/stable/modules/linear_model.html#logistic-regression\n",
            "  n_iter_i = _check_optimize_result(\n"
          ]
        },
        {
          "output_type": "stream",
          "name": "stdout",
          "text": [
            "Accuracy: \n",
            "0.8082595870206489\n",
            "Logistic Regression Classification Report:\n",
            "              precision    recall  f1-score   support\n",
            "\n",
            "           0       0.77      0.86      0.81       165\n",
            "           1       0.85      0.76      0.80       174\n",
            "\n",
            "    accuracy                           0.81       339\n",
            "   macro avg       0.81      0.81      0.81       339\n",
            "weighted avg       0.81      0.81      0.81       339\n",
            "\n",
            "Logistic Regression Confusion Matrix:\n",
            "[[142  23]\n",
            " [ 42 132]]\n"
          ]
        },
        {
          "output_type": "display_data",
          "data": {
            "text/plain": [
              "<Figure size 640x480 with 2 Axes>"
            ],
            "image/png": "[encoded data removed]"
          },
          "metadata": {}
        }
      ],
      "source": [
        "from sklearn.linear_model import LogisticRegression\n",
        "from sklearn.metrics import classification_report, confusion_matrix, ConfusionMatrixDisplay\n",
        "logreg = LogisticRegression()\n",
        "logreg.fit(X_train, y_train)\n",
        "logreg_predictions = logreg.predict(x_test)\n",
        "print(\"Accuracy: \")\n",
        "print(logreg.score(x_test, y_test))\n",
        "\n",
        "print(\"Logistic Regression Classification Report:\")\n",
        "print(classification_report(y_test, logreg_predictions))\n",
        "\n",
        "cm_logreg = confusion_matrix(y_test, logreg_predictions)\n",
        "disp_logreg = ConfusionMatrixDisplay(confusion_matrix=cm_logreg, display_labels=logreg.classes_)\n",
        "disp_logreg.plot(cmap='Greys_r')\n",
        "print(\"Logistic Regression Confusion Matrix:\")\n",
        "print(cm_logreg)"
      ]
    },
    {
      "cell_type": "markdown",
      "metadata": {
        "id": "obWaxKHHrxSx"
      },
      "source": [
        "**Unit Test - 03 (Normalization or Scaling features for SVM)**"
      ]
    },
    {
      "cell_type": "code",
      "execution_count": null,
      "metadata": {
        "id": "cPi3hfZugRDr"
      },
      "outputs": [],
      "source": [
        "from sklearn.svm import SVC"
      ]
    },
    {
      "cell_type": "code",
      "execution_count": null,
      "metadata": {
        "id": "Tv8a2Ae8m6Y0"
      },
      "outputs": [],
      "source": [
        "from sklearn.preprocessing import StandardScaler"
      ]
    },
    {
      "cell_type": "code",
      "execution_count": null,
      "metadata": {
        "id": "K6UUcOuvnLYM"
      },
      "outputs": [],
      "source": [
        "scaler = StandardScaler()\n",
        "X_train_scaled = scaler.fit_transform(X_train)\n",
        "X_test_scaled = scaler.transform(x_test)"
      ]
    },
    {
      "cell_type": "code",
      "execution_count": null,
      "metadata": {
        "id": "UEfL9UkAnQCj"
      },
      "outputs": [],
      "source": [
        "svm = SVC(kernel='linear',probability=True)\n",
        "svm.fit(X_train_scaled, y_train)\n",
        "svm_predictions = svm.predict(X_test_scaled)"
      ]
    },
    {
      "cell_type": "code",
      "execution_count": null,
      "metadata": {
        "colab": {
          "base_uri": "https://localhost:8080/",
          "height": 501
        },
        "id": "MAihBUODnmSi",
        "outputId": "d93382da-bf5f-4128-b900-98a0f9801347"
      },
      "outputs": [
        {
          "output_type": "stream",
          "name": "stdout",
          "text": [
            "SVM Confusion Matrix:\n",
            "[[ 69  96]\n",
            " [  5 169]]\n"
          ]
        },
        {
          "output_type": "display_data",
          "data": {
            "text/plain": [
              "<Figure size 640x480 with 2 Axes>"
            ],
            "image/png": "[encoded data removed]"
          },
          "metadata": {}
        }
      ],
      "source": [
        "cm_svm = confusion_matrix(y_test, svm_predictions)\n",
        "disp_svm = ConfusionMatrixDisplay(confusion_matrix=cm_svm, display_labels=svm.classes_)\n",
        "disp_svm.plot(cmap='cool')\n",
        "print(\"SVM Confusion Matrix:\")\n",
        "print(cm_svm)\n"
      ]
    },
    {
      "cell_type": "code",
      "execution_count": null,
      "metadata": {
        "colab": {
          "base_uri": "https://localhost:8080/",
          "height": 675
        },
        "id": "86tf8efcnukW",
        "outputId": "fa149072-c85c-471e-c570-063e190ee1dc"
      },
      "outputs": [
        {
          "output_type": "stream",
          "name": "stdout",
          "text": [
            "SVM Classification Report:\n",
            "              precision    recall  f1-score   support\n",
            "\n",
            "           0       0.93      0.42      0.58       165\n",
            "           1       0.64      0.97      0.77       174\n",
            "\n",
            "    accuracy                           0.70       339\n",
            "   macro avg       0.79      0.69      0.67       339\n",
            "weighted avg       0.78      0.70      0.68       339\n",
            "\n",
            "SVM Confusion Matrix:\n",
            "[[ 69  96]\n",
            " [  5 169]]\n"
          ]
        },
        {
          "output_type": "display_data",
          "data": {
            "text/plain": [
              "<Figure size 640x480 with 2 Axes>"
            ],
            "image/png": "[encoded data removed]"
          },
          "metadata": {}
        }
      ],
      "source": [
        "svm_predictions = svm.predict(X_test_scaled)\n",
        "print(\"SVM Classification Report:\")\n",
        "print(classification_report(y_test, svm_predictions))\n",
        "cm_svm = confusion_matrix(y_test, svm_predictions)\n",
        "disp_svm = ConfusionMatrixDisplay(confusion_matrix=cm_svm, display_labels=svm.classes_)\n",
        "disp_svm.plot(cmap='Greys')\n",
        "print(\"SVM Confusion Matrix:\")\n",
        "print(cm_svm)"
      ]
    },
    {
      "cell_type": "markdown",
      "metadata": {
        "id": "y3yKQDXnrLTH"
      },
      "source": [
        "**Unit Test - 04 (XGBoost)**"
      ]
    },
    {
      "cell_type": "code",
      "execution_count": null,
      "metadata": {
        "colab": {
          "base_uri": "https://localhost:8080/"
        },
        "id": "inv1p2vVu659",
        "outputId": "fb8b4afa-762e-4894-be52-a4b858e65490"
      },
      "outputs": [
        {
          "output_type": "stream",
          "name": "stdout",
          "text": [
            "\n",
            "Dataset Loaded!\n",
            "\n",
            "Data Split:\n",
            "Training Data: (1082, 3)\n",
            "Testing Data: (339, 3)\n",
            "Validation Data: (271, 3)\n"
          ]
        }
      ],
      "source": [
        "\n",
        "import pandas as pd\n",
        "from sklearn.model_selection import train_test_split\n",
        "from sklearn.preprocessing import LabelEncoder, StandardScaler\n",
        "from xgboost import XGBClassifier\n",
        "from sklearn.metrics import accuracy_score, classification_report, confusion_matrix\n",
        "\n",
        "data = pd.read_csv(\"tesla.csv\")\n",
        "print(\"\\nDataset Loaded!\")\n",
        "\n",
        "X_train, X_valid, y_train, y_valid = train_test_split(X,y, test_size=0.2, random_state=42)\n",
        "\n",
        "print(\"\\nData Split:\")\n",
        "print(f\"Training Data: {X_train.shape}\")\n",
        "print(f\"Testing Data: {x_test.shape}\")\n",
        "print(f\"Validation Data: {X_valid.shape}\")\n"
      ]
    },
    {
      "cell_type": "code",
      "execution_count": null,
      "metadata": {
        "colab": {
          "base_uri": "https://localhost:8080/"
        },
        "id": "6jZ0O0-Evmer",
        "outputId": "f050e6d9-3966-4d66-b827-f4e3979bfaa0"
      },
      "outputs": [
        {
          "output_type": "stream",
          "name": "stdout",
          "text": [
            "Training Data: [[ 1.0257316   1.03436222  0.26160758]\n",
            " [ 1.41979564  1.35733633  0.43338713]\n",
            " [-0.83209141 -0.84997592 -0.47885202]\n",
            " ...\n",
            " [ 1.5973445   1.54493216 -0.13606942]\n",
            " [ 0.08431435  0.09713557  2.08328184]\n",
            " [ 0.87523362  1.01384069  0.6774461 ]]\n",
            "Validation Data: [[-9.75397202e-01 -9.72998316e-01 -8.49545565e-01]\n",
            " [-8.33594234e-01 -8.37297614e-01 -7.12773323e-01]\n",
            " [ 1.36730386e+00  1.47702801e+00  1.08327637e+00]\n",
            " [-8.50763309e-02 -9.94854493e-02  6.12392466e-01]\n",
            " [ 1.07468096e+00  1.05445420e+00  7.74724574e-01]\n",
            " [ 1.61634480e+00  1.65667298e+00 -5.00292111e-01]\n",
            " [ 1.16442154e+00  1.27675396e+00  1.41393691e+00]\n",
            " [ 1.30450703e+00  1.34766651e+00  3.39624483e-01]\n",
            " [-8.37565995e-01 -8.35578524e-01 -7.90725520e-01]\n",
            " [ 5.96243600e-01  5.88365710e-01  2.61564438e-01]\n",
            " [-8.31339954e-01 -8.33322185e-01 -6.39264443e-01]\n",
            " [-8.36492565e-01 -8.39339024e-01 -7.84276238e-01]\n",
            " [ 1.45564906e+00  1.42781918e+00 -1.01687626e-01]\n",
            " [ 1.11085625e+00  1.05842954e+00  2.97125530e+00]\n",
            " [ 3.05767424e-01  3.56933056e-01  1.28848866e+00]\n",
            " [-9.01543710e-01 -9.02945375e-01 -5.72010721e-01]\n",
            " [ 1.24954619e+00  1.21819747e+00  1.58742599e-01]\n",
            " [ 9.78714356e-01  9.22621395e-01  7.97005875e-01]\n",
            " [ 3.16394650e-01  3.57147985e-01  2.10746126e+00]\n",
            " [-9.85702328e-01 -9.84064951e-01 -7.53690677e-01]\n",
            " [-7.78526148e-01 -7.78741081e-01 -7.34450677e-01]\n",
            " [-1.85766074e-01 -3.03197672e-01  7.10431791e+00]\n",
            " [-8.96605842e-01 -8.90804308e-01 -7.30201484e-01]\n",
            " [-9.16679401e-01 -9.17127872e-01 -7.95772785e-01]\n",
            " [ 1.14585087e+00  1.15115304e+00  3.97220608e-02]\n",
            " [-8.82543635e-01 -8.75869688e-01 -7.59169332e-01]\n",
            " [-9.00148233e-01 -8.96069023e-01 -8.08369377e-01]\n",
            " [ 1.18063061e+00  1.25021565e+00 -1.94134532e-01]\n",
            " [-9.72928273e-01 -9.76866259e-01 -8.50343637e-01]\n",
            " [-9.08950538e-01 -9.04879352e-01 -3.05584173e-01]\n",
            " [ 1.04376551e+00  1.14094581e+00  8.73858027e-01]\n",
            " [-8.96713187e-01 -8.98325319e-01 -8.10332202e-01]\n",
            " [-8.92634060e-01 -8.94887138e-01 -6.86264399e-01]\n",
            " [ 1.27498711e+00  1.22421426e+00  1.44443619e+00]\n",
            " [ 7.35040838e-01  7.02147985e-01  3.93429064e+00]\n",
            " [-3.17257568e-02 -4.40447353e-02  3.28192645e-01]\n",
            " [ 1.14606544e+00  1.15061579e+00 -1.98793545e-01]\n",
            " [ 1.40605548e+00  1.39934665e+00 -9.74384329e-02]\n",
            " [-8.86515385e-01 -8.93275490e-01 -8.14559825e-01]\n",
            " [-8.53131057e-01 -8.58893679e-01 -8.19132561e-01]\n",
            " [-9.74431095e-01 -9.80841667e-01 -8.28364310e-01]\n",
            " [ 1.34154108e+00  1.32102066e+00  9.88543095e-01]\n",
            " [ 1.32855224e+00  1.28406018e+00  8.76295382e-01]\n",
            " [ 1.54420883e+00  1.60370358e+00 -6.91121286e-03]\n",
            " [ 1.34873319e+00  1.33380641e+00  1.92908698e-01]\n",
            " [-8.75136807e-01 -8.91126627e-01 -5.81760138e-01]\n",
            " [-1.00201881e+00 -1.00071865e+00 -7.75001350e-01]\n",
            " [ 1.83586549e+00  1.78281148e+00  1.49754032e+00]\n",
            " [ 1.00598012e+00  9.91062635e-01  1.10128691e+00]\n",
            " [-8.36063174e-01 -8.34289184e-01 -7.79703502e-01]\n",
            " [-9.06588944e-01 -9.00259296e-01 -7.76295520e-01]\n",
            " [-8.80074674e-01 -8.80059992e-01 -5.47852874e-01]\n",
            " [-9.46736040e-01 -9.48501275e-01 -4.00403725e-01]\n",
            " [-8.96069127e-01 -8.97788103e-01 -7.29856372e-01]\n",
            " [-8.75136807e-01 -8.48794032e-01 -3.70422111e-01]\n",
            " [-8.85978670e-01 -8.96283888e-01 -7.51921977e-01]\n",
            " [-9.77866141e-01 -9.72031327e-01 -7.72930677e-01]\n",
            " [-8.34130950e-01 -8.35363637e-01 -7.69069735e-01]\n",
            " [ 1.00104217e+00  1.02028719e+00 -1.47263994e-01]\n",
            " [-8.24791930e-01 -8.10651721e-01 -4.88277896e-01]\n",
            " [ 1.46112360e+00  1.49110319e+00 -4.04696057e-01]\n",
            " [-8.65797766e-01 -8.65770052e-01 -7.06043636e-01]\n",
            " [ 9.29335671e-01  9.32291215e-01  4.16498205e-01]\n",
            " [ 3.56649091e-01  3.29749947e-01  1.08439798e+00]\n",
            " [-8.58283614e-01 -8.59001122e-01 -7.74009152e-01]\n",
            " [-9.80335069e-01 -9.82130995e-01 -8.58863592e-01]\n",
            " [-9.42334887e-01 -9.40872821e-01 -6.85013367e-01]\n",
            " [ 1.19190189e+00  1.29029190e+00  1.60597023e+00]\n",
            " [ 1.33606653e+00  1.34465812e+00  9.51556933e-02]\n",
            " [ 8.35301189e-01  9.14348228e-01  1.88596399e+00]\n",
            " [-9.71318074e-01 -9.67626158e-01 -6.49790363e-01]\n",
            " [-8.86515385e-01 -8.92738264e-01 -6.48151080e-01]\n",
            " [-9.18074878e-01 -9.33351789e-01 -7.55739780e-01]\n",
            " [ 3.87457103e-01  4.07216541e-01  1.74078519e-01]\n",
            " [-2.32454771e-02  6.14644380e-02  1.44010072e+00]\n",
            " [-9.86131719e-01 -9.88255245e-01 -8.68375745e-01]\n",
            " [ 6.28769177e-01  6.28227037e-01  5.30234215e-01]\n",
            " [-8.43362646e-01 -8.37727355e-01 -8.20016910e-01]\n",
            " [-8.90272477e-01 -8.88870321e-01 -8.06449691e-01]\n",
            " [-7.32904448e-01 -7.27490693e-01 -2.32441976e-01]\n",
            " [-8.58498315e-01 -8.59216008e-01 -6.61998704e-01]\n",
            " [-7.84430122e-01 -7.90452396e-01 -4.24000766e-01]\n",
            " [ 1.06137011e+00  1.02576673e+00  4.56968142e-02]\n",
            " [ 1.80312534e+00  1.82267280e+00 -9.61442625e-02]\n",
            " [ 1.38984641e+00  1.28406018e+00  1.03940399e+00]\n",
            " [-8.18673266e-01 -8.36438047e-01 -4.47727223e-01]\n",
            " [-8.37458672e-01 -8.27842605e-01 -7.60010542e-01]\n",
            " [-8.73419284e-01 -8.64588166e-01 -6.63594847e-01]\n",
            " [ 6.36283308e-01  7.14074176e-01  2.45192628e+00]\n",
            " [ 1.59723737e+00  1.67837671e+00 -7.68395539e-02]\n",
            " [-8.83402386e-01 -8.78878107e-01 -7.89021529e-01]\n",
            " [ 1.17096961e+00  1.14610320e+00 -1.99462200e-01]\n",
            " [ 1.33617382e+00  1.28191135e+00  5.09721614e-01]\n",
            " [ 1.48860394e+00  1.50378141e+00  1.02911534e+00]\n",
            " [ 1.58338976e+00  1.60606734e+00 -1.21359016e-01]\n",
            " [ 1.25673846e+00  1.25515795e+00 -8.01181189e-02]\n",
            " [-8.23933158e-01 -8.15271734e-01 -5.32624802e-01]\n",
            " [-9.01651055e-01 -9.03375158e-01 -8.08779197e-01]\n",
            " [-8.61718660e-01 -8.72216620e-01 -6.79750408e-01]\n",
            " [-8.43255279e-01 -8.43421874e-01  2.86714483e-01]\n",
            " [ 2.30840534e-01  1.69767166e-01  1.22846072e+00]\n",
            " [-8.89413715e-01 -8.90052185e-01 -7.60700767e-01]\n",
            " [ 6.83085815e-01  6.24896320e-01  9.68332467e-01]\n",
            " [ 1.37760907e+00  1.40804952e+00  9.96852897e-02]\n",
            " [ 9.41680302e-01  9.77524850e-01 -1.08744602e-03]\n",
            " [ 1.23537671e+00  1.22002399e+00 -1.82185025e-01]\n",
            " [ 1.43686365e+00  1.46413486e+00 -4.32240317e-01]\n",
            " [-8.90701868e-01 -8.82208845e-01 -7.06151484e-01]\n",
            " [ 1.34293662e+00  1.29469711e+00  5.57994170e-01]\n",
            " [ 1.25748979e+00  1.20605651e+00  3.96136591e-01]\n",
            " [-8.79967351e-01 -8.77696232e-01 -7.29683816e-01]\n",
            " [-8.91345929e-01 -8.92308502e-01 -7.30805430e-01]\n",
            " [-8.61289269e-01 -8.46215375e-01 -6.68944085e-01]\n",
            " [-9.61012948e-01 -9.78263031e-01 -4.38128793e-01]\n",
            " [-8.77820436e-01 -8.82746071e-01 -6.84668255e-01]\n",
            " [ 1.02841523e+00  1.00180695e+00  9.51341238e-02]\n",
            " [ 3.52033324e-01  2.95368167e-01  1.92414202e+00]\n",
            " [ 7.75402570e-01  8.45584670e-01  6.19079013e-01]\n",
            " [-8.32842818e-01 -8.32247775e-01 -5.89848703e-01]\n",
            " [-8.38854127e-01 -8.40628331e-01 -8.22432695e-01]\n",
            " [-9.02724517e-01 -9.00796501e-01 -5.65949690e-01]\n",
            " [ 5.47186779e-01  6.39401212e-01  1.66783157e+00]\n",
            " [-8.91238583e-01 -8.84572605e-01 -7.07553502e-01]\n",
            " [-9.53176750e-01 -9.59138137e-01 -7.86023368e-01]\n",
            " [-9.72928273e-01 -9.74395077e-01 -7.40058749e-01]\n",
            " [ 1.49890915e+00  1.46843268e+00  1.86157442e-01]\n",
            " [-9.10990096e-01 -9.08210090e-01 -6.09778928e-01]\n",
            " [ 7.22696207e-01  7.51571904e-01  4.92164035e-01]\n",
            " [-9.46306648e-01 -9.50757592e-01 -7.67387314e-01]\n",
            " [-9.77114724e-01 -9.72783429e-01 -7.56861394e-01]\n",
            " [-8.34989690e-01 -8.17957813e-01 -4.32348165e-01]\n",
            " [ 9.82471501e-01  9.75053711e-01  3.71698340e-01]\n",
            " [ 4.04632396e-01  4.90377601e-01  1.37297641e+00]\n",
            " [-8.93922213e-01 -8.83283276e-01 -6.90858704e-01]\n",
            " [ 4.69898284e-01  4.26126473e-01  2.65986187e-01]\n",
            " [-9.24837613e-01 -9.07887771e-01 -5.30165878e-01]\n",
            " [ 1.08713305e+00  1.08421583e+00  1.17721157e+00]\n",
            " [-8.27797584e-01 -8.20429049e-01 -4.89162246e-01]\n",
            " [-9.36860283e-01 -9.36037868e-01 -7.32552560e-01]\n",
            " [-9.34176654e-01 -9.32922027e-01 -8.32764489e-01]\n",
            " [-8.89950431e-01 -9.00366739e-01  3.13482241e-01]\n",
            " [-9.02509816e-01 -9.11111055e-01 -2.93828792e-01]\n",
            " [ 1.09303706e+00  1.06895893e+00 -2.71482783e-01]\n",
            " [-9.75182511e-01 -9.74932303e-01 -8.77003547e-01]\n",
            " [-8.22537649e-01 -8.18065278e-01 -7.54445610e-01]\n",
            " [ 1.18589058e+00  1.13783004e+00 -2.12058792e-01]\n",
            " [-8.26831478e-01 -8.35685956e-01 -6.20714668e-01]\n",
            " [-8.47119705e-01 -8.48686568e-01 -7.03994533e-01]\n",
            " [ 9.92239955e-01  9.89988300e-01 -2.63156954e-01]\n",
            " [-7.90870865e-01 -7.94427782e-01 -7.02937628e-01]\n",
            " [ 6.06226626e-01  5.92233675e-01  7.22116547e-01]\n",
            " [-9.01758411e-01 -8.98217865e-01 -5.73844129e-01]\n",
            " [ 9.49731190e-01  9.35299612e-01  6.07172645e-01]\n",
            " [-8.78464497e-01 -8.62654189e-01 -7.24075744e-01]\n",
            " [ 1.58446327e+00  1.60262909e+00  7.51968745e-01]\n",
            " [-8.40249625e-01 -8.41810206e-01 -7.87986193e-01]\n",
            " [ 1.27799276e+00  1.29265566e+00  5.81855586e-02]\n",
            " [-7.03599215e-01 -6.92893984e-01 -1.85312604e-01]\n",
            " [ 1.20854042e+00  1.29158117e+00  1.95804929e+00]\n",
            " [-8.89413715e-01 -8.88440548e-01 -6.60488838e-01]\n",
            " [ 1.16141589e+00  1.23442149e+00  2.52850357e-01]\n",
            " [-9.15498593e-01 -9.01763489e-01 -5.89072201e-01]\n",
            " [ 1.57319183e+00  1.59553779e+00  4.64878609e-01]\n",
            " [ 7.61447826e-01  7.69407501e-01  1.56563525e+00]\n",
            " [-7.86040321e-01 -7.84435558e-01 -7.03218031e-01]\n",
            " [-9.32459131e-01 -9.31955039e-01 -7.12277224e-01]\n",
            " [ 9.30516479e-01  1.02565934e+00  3.34771344e-01]\n",
            " [ 6.72888056e-01  6.25326190e-01  7.26559866e-01]\n",
            " [ 1.61795491e+00  1.56384227e+00  6.76044081e-01]\n",
            " [-8.76317615e-01 -8.88010786e-01 -6.44160722e-01]\n",
            " [ 1.42129847e+00  1.47606105e+00  6.48289667e-02]\n",
            " [ 3.50637783e-01  3.04178582e-01  3.89494786e+00]\n",
            " [-8.80504066e-01 -8.81993948e-01 -6.67153816e-01]\n",
            " [-9.71532775e-01 -9.80197008e-01 -6.53241484e-01]\n",
            " [-8.09119502e-01 -8.28164924e-01 -2.88522694e-01]\n",
            " [-9.09057883e-01 -9.17127872e-01 -6.30248390e-01]\n",
            " [-8.25758047e-01 -8.18495061e-01 -5.72549959e-01]\n",
            " [ 1.48871140e+00  1.49593810e+00 -6.04968928e-01]\n",
            " [-6.49711937e-01 -6.49486980e-01 -1.06389778e-01]\n",
            " [ 1.11482812e+00  1.13911930e+00 -1.62772469e-01]\n",
            " [-2.01545826e-01 -1.78563627e-01  9.98465068e-01]\n",
            " [-9.70244644e-01 -9.62898659e-01 -8.51227987e-01]\n",
            " [-8.50984142e-01 -8.46967477e-01 -7.32013323e-01]\n",
            " [ 1.63223168e+00  1.70480764e+00  4.28641838e-01]\n",
            " [-8.88340264e-01 -8.72538960e-01 -3.96844757e-01]\n",
            " [-8.21678909e-01 -8.21933242e-01 -7.89452919e-01]\n",
            " [-9.01973101e-01 -9.05309114e-01 -5.24687223e-01]\n",
            " [ 1.07382219e+00  1.07723209e+00 -3.02370317e-01]\n",
            " [-8.34130950e-01 -8.33322185e-01 -7.69307000e-01]\n",
            " [-8.85763979e-01 -8.91448957e-01 -7.66524534e-01]\n",
            " [-9.29346110e-01 -9.20673496e-01 -6.62106551e-01]\n",
            " [-8.90165132e-01 -8.92308502e-01 -7.70169780e-01]\n",
            " [-8.99826187e-01 -9.12830146e-01 -4.71496820e-01]\n",
            " [-8.77176376e-01 -8.86721458e-01 -8.05608480e-01]\n",
            " [-5.31632243e-01 -6.01137557e-01  1.24325740e+00]\n",
            " [-8.94029558e-01 -8.93168047e-01 -5.80595385e-01]\n",
            " [ 4.00660678e-01  4.27845606e-01  4.17619820e-01]\n",
            " [ 1.22979471e+00  1.30877214e+00  1.65411337e+00]\n",
            " [-8.05255119e-01 -8.09792154e-01 -6.95711843e-01]\n",
            " [-8.20390789e-01 -8.27090503e-01 -5.86181887e-01]\n",
            " [-9.33103202e-01 -9.32599687e-01 -6.09800497e-01]\n",
            " [-9.08413812e-01 -9.11755714e-01 -7.68897179e-01]\n",
            " [ 8.15764453e-01  8.53535356e-01  3.64386277e-01]\n",
            " [-8.96605842e-01 -9.01548624e-01 -7.69069735e-01]\n",
            " [ 1.43514609e+00  1.49292971e+00  3.08801658e-01]\n",
            " [ 1.62053109e+00  1.61079487e+00 -2.16647555e-02]\n",
            " [-8.56458746e-01 -8.41165579e-01 -5.21171394e-01]\n",
            " [ 5.50085142e-01  5.81059489e-01  2.53260178e-01]\n",
            " [-9.86239064e-01 -9.93090176e-01 -6.35381932e-01]\n",
            " [ 1.08079973e+00  1.08883598e+00  1.19539467e+00]\n",
            " [-8.05469766e-01 -8.19784368e-01  1.03765686e+00]\n",
            " [-8.54955925e-01 -8.60827656e-01 -5.25981394e-01]\n",
            " [ 1.30804944e+00  1.24656246e+00  1.36370153e+00]\n",
            " [-1.00609793e+00 -1.00845456e+00 -7.62706731e-01]\n",
            " [-8.25435980e-01 -8.30206366e-01 -7.66308838e-01]\n",
            " [-9.06588944e-01 -9.00366739e-01 -5.66639914e-01]\n",
            " [ 2.67337829e-01  3.03104086e-01  1.28385121e+00]\n",
            " [ 1.85153812e+00  1.87574975e+00  8.87511525e-01]\n",
            " [-7.92158986e-01 -7.86799318e-01 -6.61912426e-01]\n",
            " [ 5.45039908e-01  5.96853655e-01  2.87734167e+00]\n",
            " [-9.41046735e-01 -9.57956284e-01 -6.15106596e-01]\n",
            " [ 1.05149437e+00  1.12977180e+00  1.98430492e-01]\n",
            " [-9.76363308e-01 -9.78048144e-01 -8.81339018e-01]\n",
            " [-8.80289375e-01 -8.81564186e-01 -7.66675520e-01]\n",
            " [-8.22859717e-01 -8.26875617e-01 -6.66765565e-01]\n",
            " [ 1.04204811e+00  1.06852923e+00 -3.02494192e-02]\n",
            " [-8.45080168e-01 -8.61364861e-01 -6.68922515e-01]\n",
            " [-8.44436076e-01 -8.54381055e-01 -7.19610856e-01]\n",
            " [-8.29407783e-01 -8.31388208e-01 -6.59259376e-01]\n",
            " [ 1.34851846e+00  1.35282374e+00  8.16587239e-03]\n",
            " [-9.30956309e-01 -9.31740142e-01 -7.34062426e-01]\n",
            " [ 1.46445128e+00  1.47466441e+00 -1.38010675e-01]\n",
            " [ 6.96396510e-01  7.46951762e-01  2.19727669e+00]\n",
            " [-8.80504066e-01 -8.84250265e-01 -7.20991305e-01]\n",
            " [ 7.76583367e-01  7.86598310e-01  5.98609551e-01]\n",
            " [ 1.95846060e-01  1.69982020e-01  1.18398440e+00]\n",
            " [-9.75933917e-01 -9.76866259e-01 -8.59251843e-01]\n",
            " [-8.80504066e-01 -8.91019173e-01 -6.60704533e-01]\n",
            " [-8.48515203e-01 -8.49761021e-01 -7.69393278e-01]\n",
            " [-9.41905496e-01 -9.34426221e-01 -1.55762379e-01]\n",
            " [-9.03690624e-01 -9.04986795e-01 -7.28001394e-01]\n",
            " [-8.96713187e-01 -9.15516225e-01 -5.68300766e-01]\n",
            " [ 1.43085235e+00  1.42513310e+00 -2.87120676e-01]\n",
            " [-8.95854426e-01 -8.86614004e-01 -6.37582022e-01]\n",
            " [ 5.52554038e-01  5.44851198e-01  6.37067982e-01]\n",
            " [-7.96130746e-01 -7.75517797e-01 -3.29073366e-01]\n",
            " [ 1.12792425e+00  1.02952731e+00  3.04056367e-01]\n",
            " [ 1.10903139e+00  1.06251243e+00 -1.52634801e-01]\n",
            " [-9.00148233e-01 -9.12830146e-01 -5.14398569e-01]\n",
            " [ 1.24729203e+00  1.09130713e+00  2.29418848e+00]\n",
            " [-8.75780867e-01 -8.55455498e-01 -6.40666461e-01]\n",
            " [-9.13029665e-01 -9.26045654e-01 -6.16379197e-01]\n",
            " [ 8.90584052e-01  8.63957354e-01  2.13421299e-01]\n",
            " [ 1.68923227e+00  1.67214482e+00 -8.38280741e-02]\n",
            " [ 1.53658725e+00  1.54987462e+00 -2.58648927e-01]\n",
            " [-8.69340157e-01 -8.64050940e-01 -6.44397986e-01]\n",
            " [-8.21464219e-01 -8.25263948e-01 -5.78158031e-01]\n",
            " [ 1.49847968e+00  1.51151733e+00 -1.03003366e-01]\n",
            " [ 1.23655751e+00  1.27868802e+00 -1.58027177e-01]\n",
            " [-8.48944595e-01 -8.56315043e-01 -6.89240991e-01]\n",
            " [ 1.61409065e+00  1.63744056e+00 -2.98121124e-01]\n",
            " [ 6.43797438e-01  7.19016637e-01  4.02564304e-01]\n",
            " [ 4.06886558e-01  3.85942838e-01  2.30473597e+00]\n",
            " [-8.91882644e-01 -9.04019806e-01 -6.21642156e-01]\n",
            " [-8.43792037e-01 -8.32999877e-01 -7.19567717e-01]\n",
            " [-8.42933254e-01 -8.33644547e-01 -7.83435027e-01]\n",
            " [-2.03156025e-01 -1.54496294e-01  2.56615839e+00]\n",
            " [ 1.59390970e+00  1.66344196e+00 -4.04329375e-01]\n",
            " [ 1.38866561e+00  1.40181780e+00 -1.16009778e-01]\n",
            " [-3.19088762e-01 -2.86006788e-01  2.72890032e+00]\n",
            " [-9.71962156e-01 -9.61394454e-01 -7.64087179e-01]]\n"
          ]
        }
      ],
      "source": [
        "\n",
        "scaler = StandardScaler()\n",
        "X_train_scaled = scaler.fit_transform(X_train)\n",
        "X_valid_scaled = scaler.transform(X_valid)\n",
        "\n",
        "print(f\"Training Data: {X_train_scaled}\")\n",
        "print(f\"Validation Data: {X_valid_scaled}\")\n",
        "\n"
      ]
    },
    {
      "cell_type": "code",
      "source": [
        "# Import necessary libraries\n",
        "import pandas as pd\n",
        "from sklearn.model_selection import train_test_split\n",
        "from sklearn.preprocessing import LabelEncoder, StandardScaler\n",
        "from xgboost import XGBClassifier\n",
        "from sklearn.metrics import accuracy_score, classification_report, confusion_matrix\n",
        "from sklearn.model_selection import train_test_split\n",
        "from sklearn.metrics import accuracy_score\n",
        "import matplotlib.pyplot as plt\n",
        "from xgboost import plot_importance\n",
        "import xgboost as xgb\n",
        "\n",
        "\n",
        "# Define data_dmatrix\n",
        "data_dmatrix = xgb.DMatrix(data=X, label=y)\n",
        "\n",
        "# Split into training and testing sets\n",
        "X_train, X_valid, y_train, y_valid = train_test_split(X, y, test_size=0.2, random_state=42)\n",
        "\n",
        "# split X and y into training and testing sets\n",
        "print(\"\\nData Split:\")\n",
        "print(f\"Training Data: {X_train.shape}\")\n",
        "print(f\"Validation Data: {X_valid.shape}\")\n"
      ],
      "metadata": {
        "colab": {
          "base_uri": "https://localhost:8080/"
        },
        "outputId": "e4cd8b82-e43b-4832-cbd8-62c161066259",
        "id": "pVwYuv2YSQnZ"
      },
      "execution_count": null,
      "outputs": [
        {
          "output_type": "stream",
          "name": "stdout",
          "text": [
            "\n",
            "Data Split:\n",
            "Training Data: (1081, 7)\n",
            "Validation Data: (271, 7)\n"
          ]
        }
      ]
    },
    {
      "cell_type": "code",
      "source": [
        "# Standardize the features\n",
        "scaler = StandardScaler()\n",
        "X_train_scaled = scaler.fit_transform(X_train)\n",
        "X_valid_scaled = scaler.transform(X_valid)\n"
      ],
      "metadata": {
        "id": "8jpi8iqLSQnc"
      },
      "execution_count": null,
      "outputs": []
    },
    {
      "cell_type": "markdown",
      "source": [
        "Cross-Validation and Model Optimization"
      ],
      "metadata": {
        "id": "WUCtCnNpbd3D"
      }
    },
    {
      "cell_type": "markdown",
      "source": [
        "With Hyperparameters"
      ],
      "metadata": {
        "id": "MbBO-uOTg052"
      }
    },
    {
      "cell_type": "code",
      "source": [
        "\n",
        "\n",
        "print(\"\\nData Split Complete!\")\n",
        "print(f\"Training Data Shape: {X_train.shape}\")\n",
        "print(f\"Validation Data Shape: {X_valid.shape}\")\n",
        "\n",
        "# Convert the dataset into DMatrix (XGBoost's internal data structure)\n",
        "dtrain = xgb.DMatrix(X_train, label=y_train)\n",
        "dvalid = xgb.DMatrix(X_valid, label=y_valid)\n",
        "\n",
        "# Define parameter grid for XGBoost\n",
        "param = {\n",
        "    'objective': 'binary:logistic',\n",
        "    'eval_metric': 'logloss',\n",
        "    'max_depth': 5,\n",
        "    'learning_rate': 0.1,\n",
        "    # 'n_estimators': 100,\n",
        "    'subsample': 0.8,\n",
        "    'colsample_bytree': 0.8\n",
        "}\n",
        "\n",
        "# Perform cross-validation using XGBoost's cv method\n",
        "cv_results = xgb.cv(\n",
        "    param,\n",
        "    dtrain,\n",
        "    num_boost_round=1000,\n",
        "    nfold=3,\n",
        "    metrics={'logloss'},\n",
        "    early_stopping_rounds=10,\n",
        "    seed=42\n",
        ")\n",
        "\n",
        "# Get the best number of boosting rounds\n",
        "best_num_rounds = cv_results['test-logloss-mean'].idxmin()\n",
        "print(f\"\\nBest Number of Boosting Rounds: {best_num_rounds}\")\n",
        "\n",
        "# Train the model using the best number of boosting rounds\n",
        "model = xgb.train(\n",
        "    param,\n",
        "    dtrain,\n",
        "    num_boost_round=best_num_rounds\n",
        ")\n",
        "\n",
        "# Make predictions on the validation set\n",
        "y_pred_proba = model.predict(dvalid)\n",
        "y_pred = (y_pred_proba > 0.5).astype(int)\n",
        "\n",
        "# Evaluate the model\n",
        "accuracy = accuracy_score(y_valid, y_pred)\n",
        "print(f\"\\nAccuracy (with XGBoost cv tuning): {accuracy:.2f}\")\n",
        "\n",
        "\n",
        "\n",
        "\n"
      ],
      "metadata": {
        "colab": {
          "base_uri": "https://localhost:8080/"
        },
        "id": "yzwPzwmfbOWQ",
        "outputId": "5b8b9acd-ffec-41f6-9e0a-3b4935c2e653"
      },
      "execution_count": null,
      "outputs": [
        {
          "output_type": "stream",
          "name": "stdout",
          "text": [
            "\n",
            "Data Split Complete!\n",
            "Training Data Shape: (1081, 7)\n",
            "Validation Data Shape: (271, 7)\n",
            "\n",
            "Best Number of Boosting Rounds: 41\n",
            "\n",
            "Accuracy (with XGBoost cv tuning): 0.84\n"
          ]
        }
      ]
    },
    {
      "cell_type": "markdown",
      "source": [
        "Without hyperparameters"
      ],
      "metadata": {
        "id": "QYD_rjLihVUY"
      }
    },
    {
      "cell_type": "code",
      "source": [
        "# Train the model with default parameters (no hyperparameters specified)\n",
        "model = xgb.train({}, dtrain, num_boost_round=100)\n",
        "\n",
        "# Make predictions on the validation set\n",
        "y_pred_proba = model.predict(dvalid)\n",
        "y_pred = (y_pred_proba > 0.5).astype(int)\n",
        "\n",
        "# Evaluate the model\n",
        "accuracy = accuracy_score(y_valid, y_pred)\n",
        "print(f\"\\nAccuracy (without hyperparameter tuning): {accuracy:.2f}\")\n"
      ],
      "metadata": {
        "id": "kFtfN-gchWuO",
        "colab": {
          "base_uri": "https://localhost:8080/"
        },
        "outputId": "a9f72848-9d95-4503-964b-0c7110c6f5b1"
      },
      "execution_count": null,
      "outputs": [
        {
          "output_type": "stream",
          "name": "stdout",
          "text": [
            "\n",
            "Accuracy (without hyperparameter tuning): 0.80\n"
          ]
        }
      ]
    },
    {
      "cell_type": "markdown",
      "source": [
        "GridSearchCV for hyperparameter tuning and Evaluation of XGBoost Classifier"
      ],
      "metadata": {
        "id": "mEpbqv0fdL0x"
      }
    },
    {
      "cell_type": "code",
      "source": [
        "from sklearn.base import BaseEstimator\n",
        "from sklearn.model_selection import train_test_split, GridSearchCV\n",
        "from sklearn.metrics import accuracy_score\n",
        "\n",
        "\n",
        "# Custom wrapper class for XGBClassifier\n",
        "class XGBClassifierWrapper(BaseEstimator):\n",
        "    def __init__(self, **params):\n",
        "        # Pass all received parameters to the XGBClassifier\n",
        "        self.model = xgb.XGBClassifier(**params)\n",
        "\n",
        "    def fit(self, X, y):\n",
        "        self.model.fit(X, y)\n",
        "        return self\n",
        "\n",
        "    def predict(self, X):\n",
        "        return self.model.predict(X)\n",
        "\n",
        "    def set_params(self, **params):\n",
        "        # Ensure that parameters are correctly passed to the XGBClassifier\n",
        "        self.model.set_params(**params)\n",
        "        return self\n",
        "\n",
        "\n",
        "\n",
        "# Define the parameter grid for GridSearchCV\n",
        "param_grid = {\n",
        "    'n_estimators': [50, 100, 150],\n",
        "    'learning_rate': [0.01, 0.1, 0.3],\n",
        "    'max_depth': [3, 5, 7],\n",
        "    'subsample': [0.8, 1.0],\n",
        "    'colsample_bytree': [0.8, 1.0]\n",
        "}\n",
        "\n",
        "# Initialize the custom wrapper model\n",
        "xgb_clf_wrapper = XGBClassifierWrapper()\n",
        "\n",
        "# Create a GridSearchCV object for hyperparameter tuning\n",
        "grid_search = GridSearchCV(estimator=xgb_clf_wrapper, param_grid=param_grid, cv=5, scoring='accuracy', verbose=2, n_jobs=-1)\n",
        "\n",
        "# Fit the model on the training data using GridSearchCV\n",
        "grid_search.fit(X_train, y_train)\n",
        "\n",
        "# Get the best parameters and estimator from GridSearchCV\n",
        "best_params = grid_search.best_params_\n",
        "best_model = grid_search.best_estimator_\n",
        "\n",
        "# Predict and evaluate on training data\n",
        "train_pred = best_model.predict(X_train)\n",
        "train_accuracy = accuracy_score(y_train, train_pred)\n",
        "\n",
        "# Predict and evaluate on testing data\n",
        "test_pred = best_model.predict(X_test)\n",
        "test_accuracy = accuracy_score(y_test, test_pred)\n",
        "\n",
        "# Print results\n",
        "print(f\"Best Parameters: {best_params}\")\n",
        "print(f\"Training Accuracy: {train_accuracy}\")\n",
        "print(f\"Testing Accuracy: {test_accuracy}\")"
      ],
      "metadata": {
        "outputId": "f0e27124-d393-4c17-ff45-8d89db6d4b31",
        "colab": {
          "base_uri": "https://localhost:8080/"
        },
        "id": "kHe61pf2SQnj"
      },
      "execution_count": null,
      "outputs": [
        {
          "output_type": "stream",
          "name": "stdout",
          "text": [
            "Fitting 5 folds for each of 108 candidates, totalling 540 fits\n",
            "Best Parameters: {'colsample_bytree': 1.0, 'learning_rate': 0.01, 'max_depth': 7, 'n_estimators': 150, 'subsample': 0.8}\n",
            "Training Accuracy: 0.9250693802035153\n",
            "Testing Accuracy: 0.8571428571428571\n"
          ]
        }
      ]
    },
    {
      "cell_type": "markdown",
      "source": [
        "**Unit Test - 5: Comparision of all models on test data**"
      ],
      "metadata": {
        "id": "vEm0nJKzUzHm"
      }
    },
    {
      "cell_type": "markdown",
      "source": [
        "Testing accuracy for hyperparameter used model"
      ],
      "metadata": {
        "id": "zYs2OT-KUs2K"
      }
    },
    {
      "cell_type": "code",
      "source": [
        "##Testing part\n",
        "logreg_predictions = logreg.predict(x_test)\n",
        "\n",
        "print(\"Logistic Regression Classification Report:\")\n",
        "print(classification_report(y_test, logreg_predictions))\n",
        "\n",
        "cm_logreg = confusion_matrix(y_test, logreg_predictions)\n",
        "disp_logreg = ConfusionMatrixDisplay(confusion_matrix=cm_logreg, display_labels=logreg.classes_)\n",
        "disp_logreg.plot(cmap='Oranges')\n",
        "print(\"Logistic Regression Confusion Matrix:\")\n",
        "print(cm_logreg)"
      ],
      "metadata": {
        "colab": {
          "base_uri": "https://localhost:8080/",
          "height": 619
        },
        "outputId": "00f5085a-980f-4baf-d65f-6eef933a7f2e",
        "id": "Y_CwjWWkUs2L"
      },
      "execution_count": null,
      "outputs": [
        {
          "output_type": "stream",
          "name": "stdout",
          "text": [
            "Logistic Regression Classification Report:\n",
            "              precision    recall  f1-score   support\n",
            "\n",
            "           0       0.86      0.83      0.85       199\n",
            "           1       0.85      0.87      0.86       207\n",
            "\n",
            "    accuracy                           0.85       406\n",
            "   macro avg       0.85      0.85      0.85       406\n",
            "weighted avg       0.85      0.85      0.85       406\n",
            "\n",
            "Logistic Regression Confusion Matrix:\n",
            "[[166  33]\n",
            " [ 27 180]]\n"
          ]
        },
        {
          "output_type": "display_data",
          "data": {
            "text/plain": [
              "<Figure size 600x400 with 2 Axes>"
            ],
            "image/png": "[encoded data removed]"
          },
          "metadata": {}
        }
      ]
    },
    {
      "cell_type": "code",
      "source": [
        "svm = SVC(kernel='poly',C=100,coef0=1.0,degree=4,gamma='scale',probability=True)\n",
        "svm.fit(X_train, y_train)\n",
        "svm_predictions = svm.predict(x_test)"
      ],
      "metadata": {
        "id": "Z_GLSFcpVMlB"
      },
      "execution_count": null,
      "outputs": []
    },
    {
      "cell_type": "code",
      "source": [
        "print(\"SVM Classification Report:\")\n",
        "print(classification_report(y_test, svm_predictions))"
      ],
      "metadata": {
        "colab": {
          "base_uri": "https://localhost:8080/"
        },
        "outputId": "6ebbe903-0e78-4ebd-b604-105d0ae49741",
        "id": "AibQ1Z4QVMlC"
      },
      "execution_count": null,
      "outputs": [
        {
          "output_type": "stream",
          "name": "stdout",
          "text": [
            "SVM Classification Report:\n",
            "              precision    recall  f1-score   support\n",
            "\n",
            "           0       0.84      0.84      0.84       199\n",
            "           1       0.85      0.84      0.84       207\n",
            "\n",
            "    accuracy                           0.84       406\n",
            "   macro avg       0.84      0.84      0.84       406\n",
            "weighted avg       0.84      0.84      0.84       406\n",
            "\n"
          ]
        }
      ]
    },
    {
      "cell_type": "code",
      "source": [
        "cm_svm = confusion_matrix(y_test, svm_predictions)\n",
        "disp_svm = ConfusionMatrixDisplay(confusion_matrix=cm_svm, display_labels=svm.classes_)\n",
        "disp_svm.plot(cmap='Greens')\n",
        "print(\"SVM Confusion Matrix:\")\n",
        "print(cm_svm)"
      ],
      "metadata": {
        "colab": {
          "base_uri": "https://localhost:8080/",
          "height": 440
        },
        "outputId": "33f8389a-e592-431c-94cc-ce951be1aeeb",
        "id": "KtIdhyc-VMlC"
      },
      "execution_count": null,
      "outputs": [
        {
          "output_type": "stream",
          "name": "stdout",
          "text": [
            "SVM Confusion Matrix:\n",
            "[[168  31]\n",
            " [ 33 174]]\n"
          ]
        },
        {
          "output_type": "display_data",
          "data": {
            "text/plain": [
              "<Figure size 600x400 with 2 Axes>"
            ],
            "image/png": "[encoded data removed]"
          },
          "metadata": {}
        }
      ]
    },
    {
      "cell_type": "code",
      "source": [
        "from sklearn.base import BaseEstimator\n",
        "from sklearn.model_selection import train_test_split, GridSearchCV\n",
        "from sklearn.metrics import accuracy_score\n",
        "\n",
        "\n",
        "# Custom wrapper class for XGBClassifier\n",
        "class XGBClassifierWrapper(BaseEstimator):\n",
        "    def __init__(self, **params):\n",
        "        # Pass all received parameters to the XGBClassifier\n",
        "        self.model = xgb.XGBClassifier(**params)\n",
        "\n",
        "    def fit(self, X, y):\n",
        "        self.model.fit(X, y)\n",
        "        return self\n",
        "\n",
        "    def predict(self, X):\n",
        "        return self.model.predict(X)\n",
        "\n",
        "    def set_params(self, **params):\n",
        "        # Ensure that parameters are correctly passed to the XGBClassifier\n",
        "        self.model.set_params(**params)\n",
        "        return self\n",
        "\n",
        "\n",
        "\n",
        "# Define the parameter grid for GridSearchCV\n",
        "param_grid = {\n",
        "    'n_estimators': [50, 100, 150],\n",
        "    'learning_rate': [0.01, 0.1, 0.3],\n",
        "    'max_depth': [3, 5, 7],\n",
        "    'subsample': [0.8, 1.0],\n",
        "    'colsample_bytree': [0.8, 1.0]\n",
        "}\n",
        "\n",
        "# Initialize the custom wrapper model\n",
        "xgb_clf_wrapper = XGBClassifierWrapper()\n",
        "\n",
        "# Create a GridSearchCV object for hyperparameter tuning\n",
        "grid_search = GridSearchCV(estimator=xgb_clf_wrapper, param_grid=param_grid, cv=5, scoring='accuracy', verbose=2, n_jobs=-1)\n",
        "\n",
        "# Fit the model on the training data using GridSearchCV\n",
        "grid_search.fit(X_train, y_train)\n",
        "\n",
        "# Get the best parameters and estimator from GridSearchCV\n",
        "best_params = grid_search.best_params_\n",
        "best_model = grid_search.best_estimator_\n",
        "\n",
        "# Predict and evaluate on training data\n",
        "train_pred = best_model.predict(X_train)\n",
        "train_accuracy = accuracy_score(y_train, train_pred)\n",
        "\n",
        "# Predict and evaluate on testing data\n",
        "test_pred = best_model.predict(x_test)\n",
        "test_accuracy = accuracy_score(y_test, test_pred)\n",
        "\n",
        "# Print results\n",
        "print(f\"Best Parameters: {best_params}\")\n",
        "print(f\"Training Accuracy: {train_accuracy}\")\n",
        "print(f\"Testing Accuracy: {test_accuracy}\")"
      ],
      "metadata": {
        "outputId": "94797b22-12e6-4b97-bc53-c40f6011cad4",
        "colab": {
          "base_uri": "https://localhost:8080/"
        },
        "id": "2yQaISZxVeXt"
      },
      "execution_count": null,
      "outputs": [
        {
          "output_type": "stream",
          "name": "stdout",
          "text": [
            "Fitting 5 folds for each of 108 candidates, totalling 540 fits\n",
            "Best Parameters: {'colsample_bytree': 1.0, 'learning_rate': 0.01, 'max_depth': 7, 'n_estimators': 150, 'subsample': 0.8}\n",
            "Training Accuracy: 0.9250693802035153\n",
            "Testing Accuracy: 0.8571428571428571\n"
          ]
        }
      ]
    }
  ],
  "metadata": {
    "colab": {
      "provenance": []
    },
    "kernelspec": {
      "display_name": "Python 3",
      "name": "python3"
    },
    "language_info": {
      "name": "python"
    }
  },
  "nbformat": 4,
  "nbformat_minor": 0
}